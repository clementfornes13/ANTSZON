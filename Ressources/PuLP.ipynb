{
 "cells": [
  {
   "cell_type": "code",
   "execution_count": 81,
   "metadata": {},
   "outputs": [],
   "source": [
    "import pulp\n",
    "import itertools \n",
    "import math"
   ]
  },
  {
   "attachments": {},
   "cell_type": "markdown",
   "metadata": {},
   "source": [
    "Maths"
   ]
  },
  {
   "cell_type": "code",
   "execution_count": null,
   "metadata": {},
   "outputs": [],
   "source": [
    "# Créer un problème de maximisation\n",
    "prob = pulp.LpProblem(\"Problème de maximisation\", pulp.LpMaximize)\n",
    "\n",
    "# Définir les variables de décision\n",
    "x = pulp.LpVariable(\"x\", lowBound=0)\n",
    "y = pulp.LpVariable(\"y\", lowBound=2)\n",
    "\n",
    "# Définir la fonction objectif\n",
    "prob += 3*x + 5*y\n",
    "\n",
    "# Ajouter les contraintes\n",
    "prob += x + 2*y <= 10\n",
    "\n",
    "# Résoudre le problème\n",
    "prob.solve()\n",
    "\n",
    "# Afficher les résultats\n",
    "print(\"Statut:\", pulp.LpStatus[prob.status])\n",
    "print(\"Valeur optimale de x:\", pulp.value(x))\n",
    "print(\"Valeur optimale de y:\", pulp.value(y))\n",
    "print(\"Valeur optimale de la fonction objectif:\", pulp.value(prob.objective))\n"
   ]
  },
  {
   "attachments": {},
   "cell_type": "markdown",
   "metadata": {},
   "source": [
    "Sac à dos"
   ]
  },
  {
   "cell_type": "code",
   "execution_count": 78,
   "metadata": {},
   "outputs": [
    {
     "name": "stdout",
     "output_type": "stream",
     "text": [
      "Statut: Optimal\n",
      "Objets sélectionnés:\n",
      "Objet 0 - Poids: 2 Valeur: 10\n",
      "Objet 1 - Poids: 3 Valeur: 20\n",
      "Objet 5 - Poids: 1 Valeur: 20\n",
      "Valeur totale: 50.0\n"
     ]
    },
    {
     "name": "stderr",
     "output_type": "stream",
     "text": [
      "C:\\Users\\alexa\\algo_env\\lib\\site-packages\\pulp\\pulp.py:1352: UserWarning: Spaces are not permitted in the name. Converted to '_'\n",
      "  warnings.warn(\"Spaces are not permitted in the name. Converted to '_'\")\n"
     ]
    }
   ],
   "source": [
    "# Données du problème\n",
    "poids = [2, 3, 4, 5, 9, 1, 3]\n",
    "valeurs = [10, 20, 15, 25, 3, 20, 5]\n",
    "poids_max = 7\n",
    "\n",
    "# Créer un problème de maximisation\n",
    "prob = pulp.LpProblem(\"Problème du sac à dos\", pulp.LpMaximize)\n",
    "\n",
    "# Variables binaires pour les objets\n",
    "objets = range(len(poids))\n",
    "selection = pulp.LpVariable.dicts(\"selection\", objets, cat=\"Binary\")\n",
    "\n",
    "# Définir la fonction objectif\n",
    "prob += pulp.lpSum([valeurs[i] * selection[i] for i in objets])\n",
    "\n",
    "# Ajouter la contrainte de poids\n",
    "prob += pulp.lpSum([poids[i] * selection[i] for i in objets]) <= poids_max\n",
    "\n",
    "# Résoudre le problème\n",
    "prob.solve()\n",
    "\n",
    "# Afficher les résultats\n",
    "print(\"Statut:\", pulp.LpStatus[prob.status])\n",
    "print(\"Objets sélectionnés:\")\n",
    "for i in objets:\n",
    "    if selection[i].value() == 1.0:\n",
    "        print(\"Objet\", i, \"- Poids:\", poids[i], \"Valeur:\", valeurs[i])\n",
    "print(\"Valeur totale:\", pulp.value(prob.objective))\n"
   ]
  },
  {
   "attachments": {},
   "cell_type": "markdown",
   "metadata": {},
   "source": [
    "TSP"
   ]
  },
  {
   "cell_type": "code",
   "execution_count": 83,
   "metadata": {},
   "outputs": [
    {
     "data": {
      "image/png": "[encoded data removed]",
      "text/plain": [
       "<Figure size 640x480 with 1 Axes>"
      ]
     },
     "metadata": {},
     "output_type": "display_data"
    },
    {
     "name": "stdout",
     "output_type": "stream",
     "text": [
      "Status: Optimal\n",
      "Total distance traveled: 21.992899087540213\n",
      "Route:\n",
      "0 -> 9\n",
      "9 -> 1\n",
      "1 -> 2\n",
      "2 -> 3\n",
      "3 -> 4\n",
      "4 -> 5\n",
      "5 -> 6\n",
      "6 -> 7\n",
      "7 -> 8\n",
      "8 -> 0\n"
     ]
    },
    {
     "data": {
      "image/png": "[encoded data removed]",
      "text/plain": [
       "<Figure size 640x480 with 1 Axes>"
      ]
     },
     "metadata": {},
     "output_type": "display_data"
    }
   ],
   "source": [
    "city_coords = {\n",
    "    0: (2, 3),\n",
    "    1: (3, 5),\n",
    "    2: (5, 4),\n",
    "    3: (7, 5),\n",
    "    4: (9, 6),\n",
    "    5: (8, 3),\n",
    "    6: (6, 2),\n",
    "    7: (4, 2),\n",
    "    8: (2, 1),\n",
    "    9: (1, 4)\n",
    "}\n",
    "import matplotlib.pyplot as plt \n",
    "\n",
    "# Define the number of cities\n",
    "num_cities = len(city_coords)\n",
    "\n",
    "# Plot the cities on a 2D plane\n",
    "x_coords = [city_coords[i][0] for i in range(num_cities)]\n",
    "y_coords = [city_coords[i][1] for i in range(num_cities)]\n",
    "plt.scatter(x_coords, y_coords)\n",
    "\n",
    "\n",
    "for i in range(num_cities):\n",
    "    plt.annotate(str(i), (city_coords[i][0], city_coords[i][1]))\n",
    "plt.show()\n",
    "\n",
    "\n",
    "def distance(city1, city2):\n",
    "    x1, y1 = city1\n",
    "    x2, y2 = city2\n",
    "    return math.sqrt((x1 - x2) ** 2 + (y1 - y2) ** 2) \n",
    "\n",
    "# Define the TSP problem\n",
    "prob = pulp.LpProblem(\"TSP\", pulp.LpMinimize)\n",
    "\n",
    "# Define the binary decision variables\n",
    "x = pulp.LpVariable.dicts(\"x\", [(i, j) for i in city_coords for j in city_coords if i != j], cat='Binary') \n",
    "\n",
    "# Define the objective function\n",
    "prob += pulp.lpSum([distance(city_coords[i], city_coords[j]) * x[(i, j)] for i in city_coords for j in city_coords if i != j])\n",
    "\n",
    "# Define the constraints\n",
    "# Each city must be visited exactly once\n",
    "for i in city_coords:\n",
    "    prob += pulp.lpSum([x[(i, j)] for j in city_coords if i != j]) == 1\n",
    "    prob += pulp.lpSum([x[(j, i)] for j in city_coords if i != j]) == 1\n",
    "\n",
    "# Subtour elimination constraints\n",
    "for k in city_coords:\n",
    "    for S in range(2, len(city_coords)):\n",
    "        for subset in itertools.combinations([i for i in city_coords if i != k], S):\n",
    "            prob += pulp.lpSum([x[(i, j)] for i in subset for j in subset if i != j]) <= len(subset) - 1\n",
    "\n",
    "# Solve the problem using the CBC solver\n",
    "prob.solve(pulp.PULP_CBC_CMD())\n",
    "\n",
    "# Print the status of the solution\n",
    "print(\"Status:\", pulp.LpStatus[prob.status])\n",
    "\n",
    "# Print the optimal objective value\n",
    "print(\"Total distance traveled:\", pulp.value(prob.objective)) \n",
    "\n",
    "# Extract the solution \n",
    "solution = []\n",
    "start_city = 0\n",
    "next_city = start_city\n",
    "while True:\n",
    "    for j in range(num_cities):\n",
    "        if j != next_city and x[(next_city, j)].value() == 1:\n",
    "            solution.append((next_city, j))\n",
    "            next_city = j\n",
    "            break\n",
    "    if next_city == start_city:\n",
    "        break\n",
    "\n",
    "# Print the solution\n",
    "print(\"Route:\")\n",
    "for i in range(len(solution)):\n",
    "    print(str(solution[i][0]) + \" -> \" + str(solution[i][1]))\n",
    "\n",
    "# Plot the solution on a 2D plane\n",
    "for i in range(len(solution)):\n",
    "    plt.plot([city_coords[solution[i][0]][0], city_coords[solution[i][1]][0]], [city_coords[solution[i][0]][1], city_coords[solution[i][1]][1]], 'k-')\n",
    "for i in range(num_cities):\n",
    "    plt.plot(city_coords[i][0], city_coords[i][1], 'ro')\n",
    "\n",
    "    plt.annotate(str(i), (city_coords[i][0], city_coords[i][1]))\n",
    "plt.axis('equal')\n",
    "plt.show()"
   ]
  }
 ],
 "metadata": {
  "kernelspec": {
   "display_name": "algo_env",
   "language": "python",
   "name": "algo_env"
  },
  "language_info": {
   "codemirror_mode": {
    "name": "ipython",
    "version": 3
   },
   "file_extension": ".py",
   "mimetype": "text/x-python",
   "name": "python",
   "nbconvert_exporter": "python",
   "pygments_lexer": "ipython3",
   "version": "3.9.13"
  },
  "orig_nbformat": 4
 },
 "nbformat": 4,
 "nbformat_minor": 2
}
