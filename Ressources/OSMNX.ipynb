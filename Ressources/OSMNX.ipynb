{
 "cells": [
  {
   "cell_type": "code",
   "execution_count": 26,
   "metadata": {},
   "outputs": [],
   "source": [
    "import osmnx as ox\n",
    "import networkx as nx\n",
    "\n",
    "ox.settings.log_console=True\n",
    "ox.settings.use_cache=True"
   ]
  },
  {
   "cell_type": "code",
   "execution_count": null,
   "metadata": {},
   "outputs": [],
   "source": [
    "# Génération d'un graphe des routes à partir d'une région\n",
    "G = ox.graph_from_place(\"bouches du rhone\", network_type='drive')\n",
    "G = ox.speed.add_edge_speeds(G)\n",
    "G = ox.speed.add_edge_travel_times(G)\n",
    "ox.plot_graph(G)\n"
   ]
  },
  {
   "cell_type": "code",
   "execution_count": null,
   "metadata": {},
   "outputs": [],
   "source": [
    "# Recupération des coordonnées de l'intersection la plus proche d'une adresse (lat,lon)\n",
    "address = input(\"Entrez une adresse :\")\n",
    "location = ox.geocode(address)\n",
    "print(\"lat:\",location[0], \"lon:\",location[1])\n",
    "nearest_node = ox.nearest_nodes(G, location[1], location[0])\n",
    "print(\"Nœud le plus proche :\", nearest_node)"
   ]
  },
  {
   "cell_type": "code",
   "execution_count": null,
   "metadata": {},
   "outputs": [],
   "source": [
    "# Tracer le chemin le plus court en temps entre deux points\n",
    "Point1 = 43.2220516, 5.535567\n",
    "Point2 = 43.24541035298606, 5.415732773884252\n",
    "orig = ox.distance.nearest_nodes(G, X=Point1[1], Y= Point1[0]) \n",
    "dest = ox.distance.nearest_nodes(G, X=Point2[1], Y= Point2[0]) \n",
    "print(\"orig:\", orig, \"dest:\", dest)\n",
    "\n",
    "route = ox.shortest_path(G, orig, dest, weight=\"travel_time\" , cpus=None)\n",
    "fig, ax = ox.plot_graph_route(G, route, node_size=0)"
   ]
  }
 ],
 "metadata": {
  "kernelspec": {
   "display_name": "algo_env",
   "language": "python",
   "name": "algo_env"
  },
  "language_info": {
   "codemirror_mode": {
    "name": "ipython",
    "version": 3
   },
   "file_extension": ".py",
   "mimetype": "text/x-python",
   "name": "python",
   "nbconvert_exporter": "python",
   "pygments_lexer": "ipython3",
   "version": "3.9.13"
  },
  "orig_nbformat": 4
 },
 "nbformat": 4,
 "nbformat_minor": 2
}
